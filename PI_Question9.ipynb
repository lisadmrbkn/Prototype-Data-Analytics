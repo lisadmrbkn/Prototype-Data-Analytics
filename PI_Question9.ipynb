{
 "cells": [
  {
   "cell_type": "code",
   "execution_count": 27,
   "metadata": {},
   "outputs": [],
   "source": [
    "import re"
   ]
  },
  {
   "cell_type": "code",
   "execution_count": 28,
   "metadata": {},
   "outputs": [],
   "source": [
    "def extract_pure_url(data):\n",
    "  extracted_urls = {}\n",
    "  for device_type, access_link in zip(data['Device_Type'], data['Stats_Access_Link']):\n",
    "    # Remove leading/trailing '<url>' tags and convert to lowercase for consistent processing\n",
    "    link = access_link.strip('<url>').lower()\n",
    "\n",
    "    # Regular expression pattern to match valid URL parts (alphanumeric, underscore, dot)\n",
    "    pattern = r\"[a-z0-9_]+\\.[a-z0-9_]+\"\n",
    "\n",
    "    # Extract the first match (assuming the desired URL is the first valid part)\n",
    "    match = re.search(pattern, link)\n",
    "    if match:\n",
    "      extracted_urls[device_type] = match.group()\n",
    "    else:\n",
    "      extracted_urls[device_type] = None  # Handle cases where no valid URL is found\n",
    "\n",
    "  return extracted_urls"
   ]
  },
  {
   "cell_type": "code",
   "execution_count": 29,
   "metadata": {},
   "outputs": [],
   "source": [
    "# Sample data\n",
    "data = {\n",
    "    'Device_Type': ['AXO145', 'TRU151', 'ZOD231', 'YRT326', 'LWR245'],\n",
    "    'Stats_Access_Link': [\n",
    "        '<url>https://xcd32112.smart_meter.com</url>',\n",
    "        '<url>http://tXh67.dia_meter.com</url>',\n",
    "        '<url>http://yT5495.smart_meter.com</url>',\n",
    "        '<url>https://ret323_TRu.crown.com</url>',\n",
    "        '<url>https://luwr3243.celcius.com</url>'\n",
    "    ]\n",
    "}\n"
   ]
  },
  {
   "cell_type": "code",
   "execution_count": 30,
   "metadata": {},
   "outputs": [
    {
     "name": "stdout",
     "output_type": "stream",
     "text": [
      "Device Type: AXO145, Extracted URL: xcd32112.smart_meter.com\n",
      "Device Type: TRU151, Extracted URL: tXh67.dia_meter.com\n",
      "Device Type: ZOD231, Extracted URL: yT5495.smart_meter.com\n",
      "Device Type: YRT326, Extracted URL: ret323_TRu.crown.com\n",
      "Device Type: LWR245, Extracted URL: luwr3243.celcius.com\n"
     ]
    }
   ],
   "source": [
    "# Loop through devices and extract URLs\n",
    "for device_type, stats_link in zip(device_types, stats_links):\n",
    "  extracted_url = extract_url(stats_link)\n",
    "  if extracted_url:\n",
    "    complete_url = f\"{extracted_url}\"\n",
    "    print(f\"Device Type: {device_type}, Extracted URL: {complete_url}\")\n",
    "  else:\n",
    "    print(f\"Device Type: {device_type}, No valid URL found\")"
   ]
  }
 ],
 "metadata": {
  "kernelspec": {
   "display_name": "Python 3",
   "language": "python",
   "name": "python3"
  },
  "language_info": {
   "codemirror_mode": {
    "name": "ipython",
    "version": 3
   },
   "file_extension": ".py",
   "mimetype": "text/x-python",
   "name": "python",
   "nbconvert_exporter": "python",
   "pygments_lexer": "ipython3",
   "version": "3.9.6"
  }
 },
 "nbformat": 4,
 "nbformat_minor": 2
}
